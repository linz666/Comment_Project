{
  "nbformat": 4,
  "nbformat_minor": 0,
  "metadata": {
    "colab": {
      "name": "Teacher Comment Writing.ipynb",
      "version": "0.3.2",
      "provenance": [],
      "collapsed_sections": []
    },
    "kernelspec": {
      "name": "python3",
      "display_name": "Python 3"
    }
  },
  "cells": [
    {
      "metadata": {
        "id": "Q1DXt-tzKdSq",
        "colab_type": "code",
        "outputId": "abe5f705-bec3-4ec4-bc23-1bbc3a9e4473",
        "colab": {
          "base_uri": "https://localhost:8080/",
          "height": 319
        }
      },
      "cell_type": "code",
      "source": [
        "!pip install pycodestyle flake8\n",
        "!pip install pycodestyle_magic\n",
        "%load_ext pycodestyle_magic"
      ],
      "execution_count": 0,
      "outputs": [
        {
          "output_type": "stream",
          "text": [
            "Collecting pycodestyle\n",
            "\u001b[?25l  Downloading https://files.pythonhosted.org/packages/0e/0c/04a353e104d2f324f8ee5f4b32012618c1c86dd79e52a433b64fceed511b/pycodestyle-2.5.0-py2.py3-none-any.whl (51kB)\n",
            "\u001b[K    100% |████████████████████████████████| 51kB 3.3MB/s \n",
            "\u001b[?25hCollecting flake8\n",
            "\u001b[?25l  Downloading https://files.pythonhosted.org/packages/5a/d8/1377549a9b77ad6d3c8161c741e2186bc698150f639fe08123bfe53e7a27/flake8-3.7.5-py2.py3-none-any.whl (68kB)\n",
            "\u001b[K    100% |████████████████████████████████| 71kB 7.3MB/s \n",
            "\u001b[?25hRequirement already satisfied: entrypoints<0.4.0,>=0.3.0 in /usr/local/lib/python3.6/dist-packages (from flake8) (0.3)\n",
            "Collecting mccabe<0.7.0,>=0.6.0 (from flake8)\n",
            "  Downloading https://files.pythonhosted.org/packages/87/89/479dc97e18549e21354893e4ee4ef36db1d237534982482c3681ee6e7b57/mccabe-0.6.1-py2.py3-none-any.whl\n",
            "Collecting pyflakes<2.2.0,>=2.1.0 (from flake8)\n",
            "\u001b[?25l  Downloading https://files.pythonhosted.org/packages/16/3b/b6a508ad148ce1ef50bd7a9a783afbb8d775616fc4ae5e3007c8815a3c85/pyflakes-2.1.0-py2.py3-none-any.whl (62kB)\n",
            "\u001b[K    100% |████████████████████████████████| 71kB 23.6MB/s \n",
            "\u001b[?25hInstalling collected packages: pycodestyle, mccabe, pyflakes, flake8\n",
            "Successfully installed flake8-3.7.5 mccabe-0.6.1 pycodestyle-2.5.0 pyflakes-2.1.0\n",
            "Collecting pycodestyle_magic\n",
            "  Downloading https://files.pythonhosted.org/packages/8a/45/9f0f65ab41d816bed8d37c32e61d2ff49f0b03ef2278ee15aeb6fb8e1ec5/pycodestyle_magic-0.2.5-py2.py3-none-any.whl\n",
            "Installing collected packages: pycodestyle-magic\n",
            "Successfully installed pycodestyle-magic-0.2.5\n"
          ],
          "name": "stdout"
        }
      ]
    },
    {
      "metadata": {
        "id": "-3ez2v-2LU83",
        "colab_type": "code",
        "outputId": "2e3c4965-078b-4868-ec40-8fe1143c32bc",
        "colab": {
          "base_uri": "https://localhost:8080/",
          "height": 235
        }
      },
      "cell_type": "code",
      "source": [
        "%%pycodestyle\n",
        "from google.colab import auth\n",
        "import gspread\n",
        "from oauth2client.client import GoogleCredentials\n",
        "auth.authenticate_user()\n",
        "\n",
        "\n",
        "def Grades(scores):\n",
        "    '''Calculate the final grade given the final scores'''\n",
        "    if scores >= 90:\n",
        "        return 'A'\n",
        "    elif scores >= 80:\n",
        "        return 'B'\n",
        "    elif scores >= 70:\n",
        "        return 'C'\n",
        "    elif scores >= 60:\n",
        "        return 'D'\n",
        "    else:\n",
        "        return 'F'\n",
        "\n",
        "\n",
        "def to_tuple(*strings):\n",
        "    '''Change datatype of a dataframe column from str in (a, b, c,...) format\n",
        "    to tuples'''\n",
        "    import re\n",
        "    out = []\n",
        "    for string in strings:\n",
        "        for x in string:\n",
        "            nums = re.findall(\"[0-9]+\", x)\n",
        "            nums = list(map(float, nums))\n",
        "            out.append(tuple(nums))\n",
        "    return out\n",
        "\n",
        "\n",
        "def avg(*nums):\n",
        "    '''Find the average of a dataframe column of the dataframe'''\n",
        "    out = []\n",
        "    for t in nums:\n",
        "        for x in t:\n",
        "            out.append(sum(x)/len(x))\n",
        "    return out\n",
        "\n",
        "\n",
        "#Import data from google sheets\n",
        "gc = gspread.authorize(GoogleCredentials.get_application_default())\n",
        "worksheet = gc.open('Efforts_for_Lauren_Shareshian\\'s_future_leisure _wellness').sheet1\n",
        "\n",
        "# get_all_values gives a list of rows.\n",
        "rows = worksheet.get_all_values()\n",
        "\n",
        "# Convert to a DataFrame and render.\n",
        "import pandas as pd\n",
        "df = pd.DataFrame.from_records(rows)\n",
        "\n",
        "# Changing the header\n",
        "x = df.iloc[[0]]\n",
        "x = x.values\n",
        "df.columns = x[0]\n",
        "df = df.drop(0)\n",
        "\n",
        "# Change str to int\n",
        "df[\"Midterm\"] = pd.to_numeric(df[\"Midterm\"])\n",
        "df[\"Bank Project\"] = pd.to_numeric(df[\"Bank Project\"])\n",
        "# Change str to tuple\n",
        "df[[\"Assignments\", \"Problem Sets\", \"Quizzes\"]] = df[[\"Assignments\", \"Problem Sets\", \"Quizzes\"]].apply(to_tuple)\n",
        "df[[\"avg_Assign\", \"avg_PS\", \"avg_Quizzes\"]] = df[[\"Assignments\", \"Problem Sets\", \"Quizzes\"]].apply(avg)\n",
        "# Calculating the final scores and grades\n",
        "df[\"Scores\"] = 0.4 * df[\"avg_Assign\"] + 0.2 * (df[\"avg_PS\"] + df[\"Bank Project\"]) + 0.1 * (df[\"avg_Quizzes\"] + df[\"Midterm\"])\n",
        "df[\"Grades\"] = df[\"Scores\"].apply(Grades)\n",
        "\n",
        "df #Displaying the dataframe"
      ],
      "execution_count": 0,
      "outputs": [
        {
          "output_type": "stream",
          "text": [
            "34:1: E302 expected 2 blank lines, found 1\n",
            "43:1: E265 block comment should start with '# '\n",
            "45:80: E501 line too long (87 > 79 characters)\n",
            "51:1: E402 module level import not at top of file\n",
            "54:1: E265 block comment should start with '# '\n",
            "60:1: E265 block comment should start with '# '\n",
            "63:1: E265 block comment should start with '# '\n",
            "64:80: E501 line too long (111 > 79 characters)\n",
            "65:80: E501 line too long (103 > 79 characters)\n",
            "66:1: E265 block comment should start with '# '\n",
            "67:80: E501 line too long (125 > 79 characters)\n",
            "70:3: E261 at least two spaces before inline comment\n",
            "70:4: E262 inline comment should start with '# '\n"
          ],
          "name": "stderr"
        }
      ]
    },
    {
      "metadata": {
        "id": "ZHQQ-ln6GQEO",
        "colab_type": "code",
        "outputId": "444a7d50-bf54-43a6-9483-0c2ceb7b13d1",
        "colab": {
          "base_uri": "https://localhost:8080/",
          "height": 34
        }
      },
      "cell_type": "code",
      "source": [
        "student_num = 4\n",
        "\n",
        "count_row = df.shape[0]\n",
        "print(count_row)"
      ],
      "execution_count": 0,
      "outputs": [
        {
          "output_type": "stream",
          "text": [
            "5\n"
          ],
          "name": "stdout"
        }
      ]
    },
    {
      "metadata": {
        "id": "LVGNLUhQRFQ-",
        "colab_type": "code",
        "colab": {}
      },
      "cell_type": "code",
      "source": [
        "def gender(pnoun):\n",
        "  '''\n",
        "  returns correct form of pronoun according to the\n",
        "  preferred gender of the student\n",
        "  '''\n",
        "  if df['Gender'][student_num] == 'M':\n",
        "    return pnoun\n",
        "  elif df['Gender'][student_num] == 'F':\n",
        "    if pnoun.lower() == 'he':\n",
        "      return \"she\"\n",
        "    elif pnoun.lower() == 'his':\n",
        "      return 'her'\n",
        "    elif pnoun.lower() == 'him':\n",
        "      return 'her'\n",
        "    elif pnoun.lower() == 'himself':\n",
        "      return 'herself'\n",
        "  elif df['Gender'][student_num] == 'O':\n",
        "    if pnoun.lower() == 'he':\n",
        "      return 'they'\n",
        "    elif pnoun.lower() == 'his':\n",
        "      return 'their'\n",
        "    elif pnoun.lower() == 'him':\n",
        "      return 'them'\n",
        "    elif pnoun.lower() == 'himself':\n",
        "      return 'themselves'"
      ],
      "execution_count": 0,
      "outputs": []
    },
    {
      "metadata": {
        "id": "jefD_Ti_dP_9",
        "colab_type": "code",
        "colab": {}
      },
      "cell_type": "code",
      "source": [
        "def gender_Upper(pnoun):\n",
        "  '''\n",
        "  Reuturns title case pronoun\n",
        "  '''\n",
        "  return gender(pnoun).title()"
      ],
      "execution_count": 0,
      "outputs": []
    },
    {
      "metadata": {
        "colab_type": "code",
        "id": "DVSzV7zW78k8",
        "colab": {}
      },
      "cell_type": "code",
      "source": [
        "def article_letter(word):\n",
        "  '''\n",
        "  accounts for vowels at the start of words\n",
        "  '''\n",
        "  vowels = ['a', 'e', 'i','o', 'u']\n",
        "  if word.lower()[0] in vowels:\n",
        "    return 'an ' + word\n",
        "  else:\n",
        "    return 'a ' + word"
      ],
      "execution_count": 0,
      "outputs": []
    },
    {
      "metadata": {
        "id": "sVIr_TZA66aw",
        "colab_type": "code",
        "colab": {}
      },
      "cell_type": "code",
      "source": [
        "def next_semester(student_num):\n",
        "  '''\n",
        "  Brief concluding sentence about the hopeful progress of the student \n",
        "  next semester\n",
        "  '''\n",
        "  if df['Grades'][student_num] == 'A':\n",
        "    return (f\"I look forward to {gender('his')} continued success next semester \"\n",
        "    f'as we have lots of fun coding :)')\n",
        "  if df['Grades'][student_num] == 'B':\n",
        "    return f\"That is all.\"\n",
        "  if df['Grades'][student_num] == 'C':\n",
        "    return (f\"If {name(student_num)} can commit to putting forth consistent \"\n",
        "    \"effort into the daily and nightly work and to stopping by for extra help \"\n",
        "    f\"regularly, then I am confiden that {gender('he')} will enjoy more success\" \n",
        "    \"in the spring semester.\")\n",
        "  else:\n",
        "    return f\"{gender_Upper('he')} must repeat this course.\""
      ],
      "execution_count": 0,
      "outputs": []
    },
    {
      "metadata": {
        "id": "00U9dygrhKEE",
        "colab_type": "code",
        "colab": {}
      },
      "cell_type": "code",
      "source": [
        "def article_num(score):\n",
        "  '''\n",
        "  accuonts for a/an with numbers\n",
        "  '''\n",
        "  if str(score)[0] == '8':\n",
        "    return 'an'\n",
        "  else:\n",
        "    return 'a'"
      ],
      "execution_count": 0,
      "outputs": []
    },
    {
      "metadata": {
        "id": "aLulkJoyeoQG",
        "colab_type": "code",
        "colab": {}
      },
      "cell_type": "code",
      "source": [
        "def Bank_Project(score):\n",
        "  '''\n",
        "  sentence about the bank project\n",
        "  '''\n",
        "  effort = 'good'\n",
        "  if int(score) < 85:\n",
        "    effort = 'unsatisfactory'\n",
        "  if int(score) >95:\n",
        "    effort = 'excellent'\n",
        "  return (f'{gender_Upper(\"his\")} group Bank Project grade was '\n",
        "  f'{article_num(df[\"Bank Project\"][student_num])} '\n",
        "  f'{df[\"Bank Project\"][student_num]}%, which indicated that '\n",
        "  f'{gender(\"his\")} effort, time management, and collaboration '\n",
        "  f'relating to larger group assignments was {effort}.')\n",
        " \n"
      ],
      "execution_count": 0,
      "outputs": []
    },
    {
      "metadata": {
        "id": "MUweTQ5Pmuac",
        "colab_type": "code",
        "colab": {}
      },
      "cell_type": "code",
      "source": [
        "def Hackathon_func(effort):\n",
        "  '''\n",
        "  Sentence that mentions the student's effort in the hackathon.\n",
        "  '''\n",
        "  if effort == 'bad':\n",
        "    return (f\"{gender('he')} tended to lose focus when we participated in \"\n",
        "    \"the Hackathons. These assignments allowed students to put forth as much \"\n",
        "    f\"effort as they wished to, and {gender('he')} often lost focus instead of \"\n",
        "    f\"working on advancing {gender('his')} skills.\")\n",
        "  else:\n",
        "    return (f\"{gender('he')} demonstrated significant enthusiasm and dedication \"\n",
        "    \"when we participated in the Hackathons. These assignments allowed students\"\n",
        "    f\" to put forth as much effort as they wished to, and {gender('he')} chose \"\n",
        "    f\"to use these opportunities to seriously challenge {gender('himself')}, \"\n",
        "    f\"think creatively, and advance {gender('his')} skills.\")\n",
        "\n",
        "    "
      ],
      "execution_count": 0,
      "outputs": []
    },
    {
      "metadata": {
        "colab_type": "code",
        "id": "EsBSlEFz8BIg",
        "colab": {}
      },
      "cell_type": "code",
      "source": [
        "def name(student_num):\n",
        "  '''\n",
        "  returns student's name\n",
        "  '''\n",
        "  return df[\"Name\"][student_num]"
      ],
      "execution_count": 0,
      "outputs": []
    },
    {
      "metadata": {
        "colab_type": "code",
        "id": "ZhqNjF_w8BIi",
        "colab": {}
      },
      "cell_type": "code",
      "source": [
        "def quote(student_num):\n",
        "  '''\n",
        "  returns student's quote\n",
        "  '''\n",
        "  return df[\"Reflection_quotes\"][student_num]"
      ],
      "execution_count": 0,
      "outputs": []
    },
    {
      "metadata": {
        "colab_type": "code",
        "id": "kunYfIjk8BIk",
        "colab": {}
      },
      "cell_type": "code",
      "source": [
        "def avg_PS(student_num):\n",
        "  '''\n",
        "  returns student's average p set score\n",
        "  '''\n",
        "  return df[\"avg_PS\"][student_num]"
      ],
      "execution_count": 0,
      "outputs": []
    },
    {
      "metadata": {
        "colab_type": "code",
        "id": "Jn4t9-SR8BIm",
        "colab": {}
      },
      "cell_type": "code",
      "source": [
        "def avg_Quizzes(student_num):\n",
        "  '''\n",
        "  returns student's average quiz score\n",
        "  '''\n",
        "  return df[\"avg_Quizzes\"][student_num]"
      ],
      "execution_count": 0,
      "outputs": []
    },
    {
      "metadata": {
        "colab_type": "code",
        "id": "XzKr6sjR8BIo",
        "colab": {}
      },
      "cell_type": "code",
      "source": [
        "def Midterm(student_num):\n",
        "  '''\n",
        "  returns the student's midterm score\n",
        "  '''\n",
        "  return df[\"Midterm\"][student_num]"
      ],
      "execution_count": 0,
      "outputs": []
    },
    {
      "metadata": {
        "colab_type": "code",
        "id": "vJPU2bGc8BIq",
        "colab": {}
      },
      "cell_type": "code",
      "source": [
        "def Lauren_overall_satisfaction(student_num):\n",
        "  \"\"\"\n",
        "  Sentence about Lauren's overal satisfaciton with the student\n",
        "  \"\"\"\n",
        "  if df[\"Grades\"][student_num] == 'A' or df[\"Grades\"][student_num] == 'B':\n",
        "    return f\"I am pleased with {name(student_num)}’s progress this semester\"\n",
        "  elif df[\"Grades\"][student_num] == 'C' or df[\"Grades\"][student_num] == 'D':\n",
        "    return (f\"{gender_Upper('he')} {plural('has')} encountered difficulty \"\n",
        "    f\"this semester but {gender('he')} {plural('is')} persevering\")\n",
        "  else:\n",
        "    return \"Good luck next semester\""
      ],
      "execution_count": 0,
      "outputs": []
    },
    {
      "metadata": {
        "colab_type": "code",
        "id": "yMM9zGAa8BIr",
        "colab": {}
      },
      "cell_type": "code",
      "source": [
        "def Lauren_Quizzes_satisfaction(student_num):\n",
        "  \"\"\"\n",
        "  Sentence about Lauren's overal satisfaciton with the student's quizzes\n",
        "  \"\"\"\n",
        "  if (avg_Quizzes(student_num) + Midterm(student_num)) >= 160:\n",
        "    return (\" grasped the new content thoroughly and could hand write\"\n",
        "    \" algorithms without using outside resources\")\n",
        "  elif (avg_Quizzes(student_num) + Midterm(student_num)) < 120:\n",
        "    return (\" had magnificent understanding of Lauren Shareshian \"\n",
        "    \"but not her class\")\n",
        "  else:\n",
        "    return (\" did not grasp the new content thoroughly and could not hand write\"\n",
        "    \" algorithms without using outside resources\")"
      ],
      "execution_count": 0,
      "outputs": []
    },
    {
      "metadata": {
        "colab_type": "code",
        "id": "34ZbdYnI8BI5",
        "colab": {}
      },
      "cell_type": "code",
      "source": [
        "def resources(student_num):\n",
        "  '''\n",
        "  Sentence about the studnet's use of Stack Overflow\n",
        "  '''\n",
        "  if df[\"Outside_Resources\"][student_num] == 'yes':\n",
        "    return (\"wisely utilized these resources to troubleshoot and gain \"\n",
        "    f\"inspiration and internalized the solutions that {gender('he')} found\")\n",
        "  else:\n",
        "    return (\"sometimes used these resources without fully understanding \"\n",
        "    \"what the code did\")"
      ],
      "execution_count": 0,
      "outputs": []
    },
    {
      "metadata": {
        "colab_type": "code",
        "id": "KDr5lQ27_i-T",
        "colab": {}
      },
      "cell_type": "code",
      "source": [
        "def Lauren_ps_satisfaction(student_num):\n",
        "  \"\"\"\n",
        "  Sentence about Lauren's overal satisfaciton with the student's p sets\n",
        "  \"\"\"\n",
        "  if avg_PS(student_num) >= 80:\n",
        "    return (\" had a solid understanding of the majority of the topics covered \"\n",
        "    \"this semester and that \" + gender('he') + f\" {plural('was')} consistent \"\n",
        "    \"about meeting deadlines\")\n",
        "  elif avg_PS(student_num) < 60:\n",
        "    return (\" had magnificent understanding of Lauren Shareshian \"\n",
        "    \"but not her class\")\n",
        "  else:\n",
        "    return (f\" had gaps in {gender('his')} understanding and {plural('was')}\"\n",
        "    \"inconsistent about meeting deadlines\")"
      ],
      "execution_count": 0,
      "outputs": []
    },
    {
      "metadata": {
        "colab_type": "code",
        "id": "1mcnsJcm_i-X",
        "colab": {}
      },
      "cell_type": "code",
      "source": [
        "def daily_work(student_num):\n",
        "  '''\n",
        "  Comment about student's daily work habits\n",
        "  '''\n",
        "  if df[\"Daily\"][student_num] == 'alone':\n",
        "    if df[\"Grades\"][student_num] == 'A' or df[\"Grades\"][student_num] == 'B':\n",
        "      return (gender('he') + \" worked mostly alone and \" + gender('he') +\n",
        "      f\" {plural('was')} happy to help a classmate when they got stuck.\")\n",
        "    else:\n",
        "      return (\"it would have been beneficial for \" + gender('him') +\n",
        "      \" to work with \"+ gender('his') +\" classmates rather than working alone.\")\n",
        "  if df[\"Daily\"][student_num] == 'group':\n",
        "    if df[\"Grades\"][student_num] == 'A' or df[\"Grades\"][student_num] == 'B':\n",
        "      return (gender('he') + \" worked mostly in groups and\" + gender('he') +\n",
        "      f\" {plural('was')} happy to help a classmate when they got stuck.\")\n",
        "    if df[\"Grades\"][student_num] == 'D':\n",
        "      return (gender('he') + \" worked mostly in groups and the works in \"\n",
        "      \"groups were really helpful for \" + gender('him'))\n",
        "    else:\n",
        "      return (f\"{gender('he')} {plural('was')} never on task and was a \"\n",
        "      f\"distraction to {gender('his')} peers.\")\n",
        "  "
      ],
      "execution_count": 0,
      "outputs": []
    },
    {
      "metadata": {
        "colab_type": "code",
        "id": "Coq4LBUH_i-e",
        "colab": {}
      },
      "cell_type": "code",
      "source": [
        "def extra_help(student_num):\n",
        "  '''\n",
        "  Sentence detailing if student seeks extra help\n",
        "  '''\n",
        "  if df[\"Extra Help\"][student_num] == \"no\":\n",
        "    if df[\"Grades\"][student_num] == 'A' or df[\"Grades\"][student_num] == 'B':\n",
        "      return (\"rarely if ever needed to do so because \" + gender(\"he\") + \n",
        "      f\" {plural('was')} so easily able to pick up the concepts in class.\")\n",
        "    else:\n",
        "      return (\"rarely do so but I would like \" + gender(\"him\") + \n",
        "      \" to come for extra help\")\n",
        "  if df[\"Extra Help\"][student_num] == \"yes\":\n",
        "    return (f\"frequently {plural('asks')} for extra help. \"\n",
        "    \"Keep up the good inquiries\")\n",
        "    "
      ],
      "execution_count": 0,
      "outputs": []
    },
    {
      "metadata": {
        "colab_type": "code",
        "id": "qodq5Hcx_i-k",
        "colab": {}
      },
      "cell_type": "code",
      "source": [
        "def plural(verbform):\n",
        "  '''\n",
        "  changes verb to plural when gender non-binary\n",
        "  '''\n",
        "  if df['Gender'][student_num] == 'O':\n",
        "      if verbform == 'is':\n",
        "        return 'are'\n",
        "      elif verbform == 'was':\n",
        "        return 'were'\n",
        "      elif verbform == 'has':\n",
        "        return 'have'\n",
        "      elif verbform == 'asks':\n",
        "        return 'ask'\n",
        "  else:\n",
        "    return verbform\n",
        "    "
      ],
      "execution_count": 0,
      "outputs": []
    },
    {
      "metadata": {
        "id": "l9dxJwU5dVCE",
        "colab_type": "code",
        "colab": {}
      },
      "cell_type": "code",
      "source": [
        "def first_para(student_num):\n",
        "  '''\n",
        "  write out first paragraph\n",
        "  '''\n",
        "  \n",
        "  return (\"In the first semester, we covered the fundamentals of Python, \"\n",
        "\"including loops, conditionals, functions, and dictionaries. In addition, we \"\n",
        "\"explored connections between math and computer science, including plotting, \"\n",
        "\"simulating the game of craps, and optimizing customer service at a bank. \"\n",
        "\"During second semester, we plan to focus more on group projects and data \"\n",
        "\"analysis.\")"
      ],
      "execution_count": 0,
      "outputs": []
    },
    {
      "metadata": {
        "id": "gQzXaOXJdjLP",
        "colab_type": "code",
        "colab": {}
      },
      "cell_type": "code",
      "source": [
        "def second_para(student_num):\n",
        "  '''\n",
        "  write out second paragraph\n",
        "  '''\n",
        "  return f\"In {name(student_num)}'s self reflection, {gender('he')} wrote:\""
      ],
      "execution_count": 0,
      "outputs": []
    },
    {
      "metadata": {
        "id": "xgeYwesgdqhg",
        "colab_type": "code",
        "colab": {}
      },
      "cell_type": "code",
      "source": [
        "def third_para(student_num):\n",
        "  '''\n",
        "  write out third paragraph\n",
        "  '''\n",
        "  return f'\"{quote(student_num)}\"'"
      ],
      "execution_count": 0,
      "outputs": []
    },
    {
      "metadata": {
        "id": "Okf35vlydqvV",
        "colab_type": "code",
        "colab": {}
      },
      "cell_type": "code",
      "source": [
        "def fourth_para(student_num):\n",
        "  '''\n",
        "  write out fourth paragraph\n",
        "  '''\n",
        "  return (f\"{Lauren_overall_satisfaction(student_num)}. \"\n",
        "f\"{gender_Upper('his')} problem set average was \"\n",
        "f\"{avg_PS(student_num)}%, which indicates that {gender('he')}\"\n",
        "f\"{Lauren_ps_satisfaction(student_num)}. {gender_Upper('his')} quiz average \"\n",
        "f\"and final exam score were {avg_Quizzes(student_num)}% and \"\n",
        "f\"{Midterm(student_num)}%, respectively, which demonstrated that \"\n",
        "f\"{gender('he')}{Lauren_Quizzes_satisfaction(student_num)}.\")"
      ],
      "execution_count": 0,
      "outputs": []
    },
    {
      "metadata": {
        "id": "B58KayB9dqzj",
        "colab_type": "code",
        "colab": {}
      },
      "cell_type": "code",
      "source": [
        "def fifth_para(student_num):\n",
        "  '''\n",
        "  write out fifth paragraph\n",
        "  '''\n",
        "  return (f\"{Bank_Project(df['Bank Project'][student_num])} \"\n",
        "f\"In addition, {Hackathon_func(df['Hackathon participation'][student_num])}\")"
      ],
      "execution_count": 0,
      "outputs": []
    },
    {
      "metadata": {
        "id": "xFfxl4v8eA70",
        "colab_type": "code",
        "colab": {}
      },
      "cell_type": "code",
      "source": [
        "def sixth_para(student_num):\n",
        "  '''\n",
        "  write out sixth paragraph\n",
        "  '''\n",
        "  return (f\"On the daily coding activities, {daily_work(student_num)} \"\n",
        "f\"In regard to using available resources like StackOverflow, {gender('he')} \"\n",
        "f\"{resources(student_num)}. In terms of coming in for extra help, \"\n",
        "f\"{gender('he')} {extra_help(student_num)}.\")"
      ],
      "execution_count": 0,
      "outputs": []
    },
    {
      "metadata": {
        "id": "7RjeTcuveA-7",
        "colab_type": "code",
        "colab": {}
      },
      "cell_type": "code",
      "source": [
        "def seventh_para(student_num):\n",
        "  '''\n",
        "  write out seventh paragraph\n",
        "  '''\n",
        "  return (f\"{name(student_num)}'s grade for the semester is \"\n",
        "f\"{article_letter(df['Grades'][student_num])}. {next_semester(student_num)}\")"
      ],
      "execution_count": 0,
      "outputs": []
    },
    {
      "metadata": {
        "colab_type": "code",
        "id": "RHcDGT70rMzJ",
        "colab": {}
      },
      "cell_type": "code",
      "source": [
        "from google.colab import files\n",
        "\n",
        "  '''\n",
        "  download the comment for each student as txt file\n",
        "  '''\n",
        "for student_num in range(1, df.shape[0]+1):\n",
        "  with open(f'{df[\"Name\"][student_num]}.txt', 'w') as f:\n",
        "    f.write(first_para(student_num) + '\\n')\n",
        "    f.write(second_para(student_num) + '\\n')\n",
        "    f.write(third_para(student_num) + '\\n')\n",
        "    f.write(fourth_para(student_num) + '\\n')\n",
        "    f.write(fifth_para(student_num) + '\\n')\n",
        "    f.write(sixth_para(student_num) + '\\n')\n",
        "    f.write(seventh_para(student_num) + '\\n')\n",
        "  files.download(f'{df[\"Name\"][student_num]}.txt')\n",
        "  "
      ],
      "execution_count": 0,
      "outputs": []
    }
  ]
}